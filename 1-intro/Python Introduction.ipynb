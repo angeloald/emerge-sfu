{
 "cells": [
  {
   "cell_type": "markdown",
   "metadata": {},
   "source": [
    "# Table of Contents\n",
    "\n",
    "1. print(\"Welcome to Emerge SFU's Python Workshop Series\")\n",
    "2. Variables and operators (+, -, /, *)\n",
    "3. Lists\n",
    "4. Dictionaries\n",
    "5. Iteration (loops)\n",
    "6. Control flow (if, else)\n",
    "7. Creating your own functions\n",
    "8. requests library"
   ]
  },
  {
   "cell_type": "code",
   "execution_count": null,
   "metadata": {},
   "outputs": [],
   "source": [
    "print(\"Welcome to Emerge SFU's Python Workshop Series\")\n",
    "\n",
    "# (this is a comment that is ignored by whatever is executing your Python code)"
   ]
  },
  {
   "cell_type": "code",
   "execution_count": null,
   "metadata": {},
   "outputs": [],
   "source": [
    "# 1. Variables and operators (+, -, /, *)\n",
    "\n",
    "savings = 2000\n",
    "spent_this_week = 200\n",
    "savings = savings - spent_this_week\n",
    "\n",
    "print(\"Now I have $\", savings, \"after spending $\", spent_this_week)"
   ]
  },
  {
   "cell_type": "code",
   "execution_count": null,
   "metadata": {},
   "outputs": [],
   "source": [
    "# additional operators\n",
    "\n",
    "x = 11\n",
    "y = 2\n",
    "\n",
    "print(\"x // y =\", x // y, \"--> // is just floor division (rounding down from the decimal result if there is one)\")\n",
    "print(\"x ** y =\" ,x ** y, \"--> ** is just how you create exponents with python\")\n",
    "print(\"x % y =\", x %y,  \"--> % returns the remainder\")"
   ]
  },
  {
   "cell_type": "code",
   "execution_count": null,
   "metadata": {},
   "outputs": [],
   "source": [
    "# 2. lists\n",
    "\n",
    "students = []\n",
    "\n",
    "## add to an array\n",
    "\n",
    "students.append(\"Ginzo\")\n",
    "students.append(\"Zelan\")\n",
    "students.append(\"Shiori\")\n",
    "students.append(\"Viola\")\n",
    "print(\"After adding four students:\", students)\n",
    "\n",
    "## remove last element added to an array\n",
    "students.pop()\n",
    "print(\"After removing the 'rightmost' student:\", students)\n",
    "\n",
    "## the number of items in the list\n",
    "print(\"There are\", len(students), \"students in the list\", students)\n",
    "\n",
    "## accessing elements (note: Python is zero-based)\n",
    "print(\"The 'leftmost' student is:\", students[0])\n",
    "print(\"The 'rightmost' student is:\", students[-1])\n",
    "\n",
    "# how do you think we can access the middle element of a list?\n",
    "# middle_index_of_list = len(students) // 2"
   ]
  },
  {
   "cell_type": "code",
   "execution_count": null,
   "metadata": {},
   "outputs": [],
   "source": [
    "# 3. Dictionaries\n",
    "\n",
    "\n",
    "friends = {}\n",
    "\n",
    "# add an entry to a dictionary\n",
    "friends[\"Samantha\"] = \"pisces\"\n",
    "friends[\"Alisha\"] = \"ares\"\n",
    "friends[\"Aria\"] = \"libra\"\n",
    "\n",
    "print(\"My friends:\", friends)\n",
    "\n",
    "# access an entry\n",
    "\n",
    "print(\"My friend Samantha is\", friends[\"Samantha\"])\n",
    "\n",
    "# access an entry that might not exist yet\n",
    "print(\"I'm not sure if Zion is my friend, but I will assume that they are a\", friends.get(\"Zion\", \"sagittarius\"))\n",
    "\n",
    "\n",
    "# note: use dictionaries if you want to store data that you can easily access with a \"key\""
   ]
  },
  {
   "cell_type": "code",
   "execution_count": null,
   "metadata": {},
   "outputs": [],
   "source": [
    "# 4. Iteration (loops)\n",
    "\n",
    "# let's see how loops work by creating a \"counter\"\n",
    "video_games_sold = [\"Overwatch\", \"Overwatch\", \"Fortnite\", \"Minecraft\", \"Fortnite\", \"Overwatch\"]\n",
    "video_game_totals = {}\n",
    "\n",
    "# looping over a list\n",
    "for video_game in video_games_sold:\n",
    "    video_game_totals[video_game] = video_game_totals.get(video_game, 0) + 1\n",
    "\n",
    "print(video_game_totals)\n",
    "\n",
    "# looping over a dictionary\n",
    "for video_game in video_game_totals:\n",
    "    print(video_game, \"has been bought\", video_game_totals[video_game], \"times\")"
   ]
  },
  {
   "cell_type": "code",
   "execution_count": null,
   "metadata": {},
   "outputs": [],
   "source": [
    "# Control flow (if, else)\n",
    "\n",
    "# with math symbols\n",
    "my_age = 18\n",
    "required_age = 19\n",
    "if my_age >= required_age:\n",
    "    print(\"I bought liquor\")\n",
    "elif my_age == 18:\n",
    "    print(\"I am old enough to go to jail but too young to purchase alcohol\")\n",
    "else:\n",
    "    print(\"I am too young for alcohol\")\n",
    "\n",
    "# with \"and\"/\"or\"\n",
    "my_friends_age = 21\n",
    "if my_age >= 19:\n",
    "    print(\"I bought liquor\")\n",
    "elif my_friends_age >= 19 and my_age >= 18:\n",
    "    print(\"My friend bought alcohol since I am old enough to go to jail but too young to purchase alcohol\")\n",
    "else:\n",
    "    print(\"We are not getting alcohol\")\n",
    "\n",
    "# with \"in\"\n",
    "people_in_the_liquor_store = [\"Helena\", \"Solara\", \"Seya\", \"Lauren\"]\n",
    "person_of_interest = \"Lauren\"\n",
    "if person_of_interest in people_in_the_liquor_store:\n",
    "    print(\"There is a person_of_interest in the liquor store\")\n",
    "else:\n",
    "    print(\"Nobody of interest in the liquor store\")\n"
   ]
  },
  {
   "cell_type": "code",
   "execution_count": null,
   "metadata": {},
   "outputs": [],
   "source": [
    "# Creating your own functions\n",
    "\n",
    "def append_with_cute_emoji(name):\n",
    "    emojis = [\"(づ｡◕‿‿◕｡)づ\", \"(✿◠‿◠)\", \"(ﾉ◕ヮ◕)ﾉ*:･ﾟ✧\", \"(.❛ ᴗ ❛.)\", \"♡＼(￣▽￣)／♡\"]\n",
    "    \n",
    "    # get emoji based on lenght of name\n",
    "    emoji_index = len(name) % len(emojis)\n",
    "    \n",
    "    return name + \" \" + emojis[emoji_index]\n",
    "\n",
    "names = [\"Alphonse\", \"Sanda\", \"Christine\"]\n",
    "for person in names:\n",
    "    print(append_with_cute_emoji(person))\n",
    "    \n",
    "# note: functions are used to better organize your code, and you can use functions in functions\""
   ]
  },
  {
   "cell_type": "code",
   "execution_count": null,
   "metadata": {},
   "outputs": [],
   "source": [
    "# `requests` library\n",
    "\n",
    "import requests\n",
    "\n",
    "req = requests.get(\"https://ghibliapi.herokuapp.com/films/\")\n",
    "data = req.json()\n",
    "for item in data:\n",
    "    print(item[\"title\"], \"-\", item[\"producer\"])\n",
    "    \n",
    "# request is a library that allows your Python code to interact with resources from the internet\n",
    "# people usually use it to create, read, update, or delete data from another computer over the internet"
   ]
  },
  {
   "cell_type": "markdown",
   "metadata": {},
   "source": [
    "# Recommended Work\n",
    "\n",
    "1. Read this to understand what APIs are https://zapier.com/learn/apis/\n",
    "2. Read this to understand how to use the requests library https://realpython.com/python-requests/#request-headers\n",
    "3. Follow this tutorial to understand how BeautifulSoup works https://medium.com/opex-analytics/simple-web-scraping-in-python-90d6fddfaeca"
   ]
  }
 ],
 "metadata": {
  "kernelspec": {
   "display_name": "Python 3",
   "language": "python",
   "name": "python3"
  },
  "language_info": {
   "codemirror_mode": {
    "name": "ipython",
    "version": 3
   },
   "file_extension": ".py",
   "mimetype": "text/x-python",
   "name": "python",
   "nbconvert_exporter": "python",
   "pygments_lexer": "ipython3",
   "version": "3.7.5"
  }
 },
 "nbformat": 4,
 "nbformat_minor": 4
}
