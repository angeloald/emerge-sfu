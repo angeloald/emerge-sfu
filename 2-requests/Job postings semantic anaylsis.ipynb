{
 "cells": [
  {
   "cell_type": "markdown",
   "metadata": {},
   "source": [
    "# Introduction\n",
    "\n",
    "We will get job postings from GitHub and StackOverflow and have their descriptions run through a simple sentiment analyzer.\n",
    "\n",
    "This does not really do anything useful, but it illustrates how we can connect our code to the internet and process external data."
   ]
  },
  {
   "cell_type": "code",
   "execution_count": null,
   "metadata": {},
   "outputs": [],
   "source": [
    "# we can organize our code by placing them into functions\n",
    "\n",
    "import requests\n",
    "import xmltodict\n",
    "\n",
    "def load_github_jobs_data():\n",
    "    url = \"https://jobs.github.com/positions.json?\"\n",
    "    req = requests.get(url)\n",
    "    data = req.json()\n",
    "    \n",
    "    # assume that the request was successful\n",
    "    return data\n",
    "\n",
    "def load_stackoverflow_jobs_data(search_term=\"api\"):\n",
    "    url = \"https://stackoverflow.com/jobs/feed?tl={}\".format(search_term)\n",
    "    req = requests.get(url)\n",
    "    content = xmltodict.parse(req.content)\n",
    "    data = content[\"rss\"][\"channel\"][\"item\"]\n",
    "    \n",
    "    # assume that the request was successful\n",
    "    return data"
   ]
  },
  {
   "cell_type": "code",
   "execution_count": null,
   "metadata": {},
   "outputs": [],
   "source": [
    "# load our data by calling our functions\n",
    "\n",
    "jobs_gh = load_github_jobs_data()\n",
    "jobs_so = load_stackoverflow_jobs_data()"
   ]
  },
  {
   "cell_type": "code",
   "execution_count": null,
   "metadata": {},
   "outputs": [],
   "source": [
    "# this one is just for us to check what our job postings look like\n",
    "\n",
    "print(jobs_gh[0].keys())\n",
    "print(jobs_so[0].keys())"
   ]
  },
  {
   "cell_type": "code",
   "execution_count": null,
   "metadata": {},
   "outputs": [],
   "source": [
    "# set up our sentiment analysis library (determines how positive, negative, or neutral a piece of language is)\n",
    "\n",
    "import nltk\n",
    "nltk.download('vader_lexicon') # we need to download a pre-trained machine learning model\n",
    "\n",
    "from nltk.sentiment.vader import SentimentIntensityAnalyzer\n",
    "\n",
    "def nltk_sentiment(text):    \n",
    "    sentiment = SentimentIntensityAnalyzer()\n",
    "    score = sentiment.polarity_scores(text)\n",
    "    return score"
   ]
  },
  {
   "cell_type": "code",
   "execution_count": null,
   "metadata": {},
   "outputs": [],
   "source": [
    "scores_gh = [nltk_sentiment(job[\"description\"]) for job in jobs_gh]\n",
    "scores_so = [nltk_sentiment(job[\"description\"]) for job in jobs_so]"
   ]
  },
  {
   "cell_type": "code",
   "execution_count": null,
   "metadata": {},
   "outputs": [],
   "source": [
    "scores_gh[:3]"
   ]
  },
  {
   "cell_type": "code",
   "execution_count": null,
   "metadata": {},
   "outputs": [],
   "source": [
    "scores_so[:3]"
   ]
  },
  {
   "cell_type": "markdown",
   "metadata": {},
   "source": [
    "# Recommended work\n",
    "\n",
    "Note: the goal is for you to discover useful APIs, come up with ways you can use them, then read their documentationsa and  related tutorials from the internet. You do not need to know a lot of Python to do the following:\n",
    "\n",
    "1. Get song lyrics by using both the Spotify API and the Genius API. See how \"positive\" or \"negative\" your songs are\n",
    "2. Analyze cryptocurrency price movements from CoinGecko: https://www.coingecko.com/en/api\n",
    "3. Use Pandas (Excel but in Python) `pipenv install pandas` to clean and explore your data (our job descriptions have a lot of html tags and stop words)\n",
    "4. Get a NewsAPI API key and check the sentiment surrounding the news: https://newsapi.org/\n",
    "5. Create small projects using the APIs listed here: https://github.com/public-apis/public-apis/blob/master/README.md"
   ]
  },
  {
   "cell_type": "code",
   "execution_count": null,
   "metadata": {},
   "outputs": [],
   "source": []
  }
 ],
 "metadata": {
  "kernelspec": {
   "display_name": "Python 3",
   "language": "python",
   "name": "python3"
  },
  "language_info": {
   "codemirror_mode": {
    "name": "ipython",
    "version": 3
   },
   "file_extension": ".py",
   "mimetype": "text/x-python",
   "name": "python",
   "nbconvert_exporter": "python",
   "pygments_lexer": "ipython3",
   "version": "3.7.5"
  }
 },
 "nbformat": 4,
 "nbformat_minor": 4
}
