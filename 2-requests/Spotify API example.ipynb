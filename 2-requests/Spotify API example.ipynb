{
 "cells": [
  {
   "cell_type": "markdown",
   "metadata": {},
   "source": [
    "# About\n",
    "\n",
    "This is just a small example of how we use the Spotify API to get all of our songs and rank them by popularity (i.e. a metric determined by Spotify). We can use this to figure out the \"good\" songs our friends listen to."
   ]
  },
  {
   "cell_type": "code",
   "execution_count": null,
   "metadata": {},
   "outputs": [],
   "source": [
    "import requests"
   ]
  },
  {
   "cell_type": "code",
   "execution_count": null,
   "metadata": {},
   "outputs": [],
   "source": [
    "# spotify needs you to use a token using your client id and secret\n",
    "\n",
    "def get_my_token(client_id, client_secret):\n",
    "    endpoint = \"https://accounts.spotify.com/api/token\"\n",
    "    data = {\n",
    "        \"grant_type\": \"client_credentials\"\n",
    "    }\n",
    "    req = requests.post(endpoint, auth=(client_id, client_secret), data=data)\n",
    "    return req.json()[\"access_token\"]"
   ]
  },
  {
   "cell_type": "code",
   "execution_count": null,
   "metadata": {},
   "outputs": [],
   "source": [
    "def search_user_playlists(user_id):\n",
    "    endpoint = \"https://api.spotify.com/v1/users/{}/playlists\".format(user_id)\n",
    "    headers = {\"Authorization\": \"Bearer {}\".format(access_token)}\n",
    "    req = requests.get(endpoint, headers=headers)\n",
    "    return req.json()"
   ]
  },
  {
   "cell_type": "code",
   "execution_count": null,
   "metadata": {},
   "outputs": [],
   "source": [
    "def get_songs_from_playlist(playlist_id):\n",
    "    endpoint = \"https://api.spotify.com/v1/playlists/{}\".format(playlist_id)\n",
    "    headers = {\"Authorization\": \"Bearer {}\".format(access_token)}\n",
    "    req = requests.get(endpoint, headers=headers)\n",
    "    return req.json()"
   ]
  },
  {
   "cell_type": "code",
   "execution_count": null,
   "metadata": {},
   "outputs": [],
   "source": [
    "import os\n",
    "\n",
    "# just replace `os.environ[\"KEY\"]` with your credentials (find this in your Spotify API dashboard)\n",
    "CLIENT_ID = os.environ[\"CLIENT_ID\"]\n",
    "CLIENT_SECRET = os.environ[\"CLIENT_SECRET\"]\n",
    "\n",
    "access_token = get_my_token(CLIENT_ID, CLIENT_SECRET)\n",
    "\n",
    "# just replace `os.environ[\"KEY\"]` with any user id (find this in the URL by searching for a user in the Spotify web client)\n",
    "USER_ID = os.environ[\"USER_ID\"]\n",
    "user_playlists = search_user_playlists(USER_ID)"
   ]
  },
  {
   "cell_type": "code",
   "execution_count": null,
   "metadata": {},
   "outputs": [],
   "source": [
    "songs_collected = []\n",
    "\n",
    "for playlist in user_playlists[\"items\"]:\n",
    "    songs = get_songs_from_playlist(playlist[\"id\"])\n",
    "    for song in songs[\"tracks\"][\"items\"]:\n",
    "        song_data = song[\"track\"]\n",
    "        \n",
    "        try:\n",
    "            song_extracted_data = {\n",
    "                \"id\": song_data[\"id\"],\n",
    "                \"name\": song_data[\"name\"],\n",
    "                \"artists\": [artist[\"name\"] for artist in song_data[\"artists\"]],\n",
    "                \"popularity\": song_data[\"popularity\"],\n",
    "                \"preview\": song_data[\"preview_url\"]\n",
    "            }\n",
    "            songs_collected.append(song_extracted_data)\n",
    "        except:\n",
    "            pass"
   ]
  },
  {
   "cell_type": "code",
   "execution_count": null,
   "metadata": {},
   "outputs": [],
   "source": [
    "# we will remove duplicate songs\n",
    "\n",
    "seen = set()\n",
    "unique_songs_collected = []\n",
    "\n",
    "for song in songs_collected:\n",
    "    if song[\"id\"] in seen:\n",
    "        continue\n",
    "    unique_songs_collected.append(song)\n",
    "    seen.add(song[\"id\"])"
   ]
  },
  {
   "cell_type": "code",
   "execution_count": null,
   "metadata": {},
   "outputs": [],
   "source": [
    "# we will print the songs in increasing popularity\n",
    "for song in sorted(unique_songs_collected, key=lambda song: song[\"popularity\"]):\n",
    "    print(song[\"popularity\"], song[\"name\"], \"--- by\", song[\"artists\"], song[\"preview\"])"
   ]
  },
  {
   "cell_type": "markdown",
   "metadata": {},
   "source": [
    "## Notes\n",
    "\n",
    "Remember that a good developer should be reading more than they code, so please read the documentation! **Read Spotify API documentation here https://developer.spotify.com/documentation/**\n",
    "\n",
    "We are not modifying user data (i.e. we can only read what is public), so we do not have full access to the Spotify API. We are only using the \"Client Credentials flow\" for app authorization. Read here https://developer.spotify.com/documentation/general/guides/authorization-guide/#client-credentials-flow\n",
    "\n",
    "If you want to modify user data, you can use the \"Authorization Code flow\" and set up the level of permissions (scope) you want to grant to your Python script. Read here https://developer.spotify.com/documentation/general/guides/authorization-guide/#authorization-code-flow\n",
    "\n",
    "\n",
    "## Example projects:\n",
    "\n",
    "- create a \"songs popularity over time\" API by logging song popularity every single day\n",
    "- integrate this with the Genius API to identify song lyrics https://docs.genius.com/\n",
    "- create a program that allows a user to duplicate another user's playlist (similar to how someone can fork a repo on Github)\n",
    "- use unsupervised learning algorithms (possibly with the help of librosa) to cluster your friends based on their music tastes... maybe you will find out the kinds of people you like based on what they listen to :^)"
   ]
  },
  {
   "cell_type": "code",
   "execution_count": null,
   "metadata": {},
   "outputs": [],
   "source": []
  }
 ],
 "metadata": {
  "kernelspec": {
   "display_name": "Python 3",
   "language": "python",
   "name": "python3"
  },
  "language_info": {
   "codemirror_mode": {
    "name": "ipython",
    "version": 3
   },
   "file_extension": ".py",
   "mimetype": "text/x-python",
   "name": "python",
   "nbconvert_exporter": "python",
   "pygments_lexer": "ipython3",
   "version": "3.7.5"
  }
 },
 "nbformat": 4,
 "nbformat_minor": 4
}
